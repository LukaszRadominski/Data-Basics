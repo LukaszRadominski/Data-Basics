{
 "cells": [
  {
   "cell_type": "markdown",
   "id": "5607a174-5b80-4016-9e82-db5a17f9441f",
   "metadata": {},
   "source": [
    "# Numpy test\n",
    "This is a sample of numpy library functions - WEKTORY I MACIERZE"
   ]
  },
  {
   "cell_type": "markdown",
   "id": "054f474a-a85d-4b34-94a8-f633bc0323ac",
   "metadata": {
    "tags": []
   },
   "source": [
    "# Wektory "
   ]
  },
  {
   "cell_type": "code",
   "execution_count": 3,
   "id": "eec05d47-b9b1-4ed8-a1af-8ced0e535db1",
   "metadata": {},
   "outputs": [
    {
     "name": "stdout",
     "output_type": "stream",
     "text": [
      "<U21\n"
     ]
    }
   ],
   "source": [
    "import numpy as np\n",
    "\n",
    "arr = np.array([1, 2, \"1\"])\n",
    "dtype = arr.dtype\n",
    "\n",
    "print(dtype)"
   ]
  },
  {
   "cell_type": "code",
   "execution_count": 4,
   "id": "1d43a968-78b4-4cef-9d01-486619ac1fd8",
   "metadata": {
    "tags": []
   },
   "outputs": [
    {
     "data": {
      "text/plain": [
       "list"
      ]
     },
     "execution_count": 4,
     "metadata": {},
     "output_type": "execute_result"
    }
   ],
   "source": [
    "import numpy as np\n",
    "\n",
    "classic_list = [1, 2, 3, 5, 7, 11]\n",
    "type(classic_list)\n"
   ]
  },
  {
   "cell_type": "code",
   "execution_count": 5,
   "id": "4875f643-0f17-4c45-8de4-4fe76351f52c",
   "metadata": {},
   "outputs": [
    {
     "data": {
      "text/plain": [
       "numpy.ndarray"
      ]
     },
     "execution_count": 5,
     "metadata": {},
     "output_type": "execute_result"
    }
   ],
   "source": [
    "import numpy as np\n",
    "\n",
    "classic_list = [1, 2, 3, 5, 7, 11]\n",
    "type(classic_list)\n",
    "\n",
    "# Ta lista może nam posłużyć jako parametr dla zbioru NumPy.\n",
    "\n",
    "numpy_array = np.array(classic_list)\n",
    "type(numpy_array)"
   ]
  },
  {
   "cell_type": "markdown",
   "id": "6d6d7dca-5651-41aa-ba85-012d67de3669",
   "metadata": {},
   "source": [
    "<div style=\"background-color: orange; padding: 20px;text-align: center;font-weight: bold;\">\n",
    "SZEREG ( w ARRAY), który powstał ma typ numpy.ndarray i jest to najważniejszy typ, jaki musisz zapamiętać z tego fragmentu o NumPy. Taki obiekt ma wymiary dostępne jako właściwość shape.\n",
    "</div>"
   ]
  },
  {
   "cell_type": "code",
   "execution_count": 7,
   "id": "8b5a1d42-b9c0-43be-857f-57b47db3d322",
   "metadata": {},
   "outputs": [
    {
     "data": {
      "text/plain": [
       "(6,)"
      ]
     },
     "execution_count": 7,
     "metadata": {},
     "output_type": "execute_result"
    }
   ],
   "source": [
    "import numpy as np\n",
    "\n",
    "classic_list = [1, 2, 3, 5, 7, 11]\n",
    "numpy_array = np.array(classic_list)\n",
    "\n",
    "numpy_array.shape"
   ]
  },
  {
   "cell_type": "markdown",
   "id": "1a267876-b125-43cc-b9e0-a8a041392190",
   "metadata": {},
   "source": [
    "Jak widzisz, wynik to (6,). Drugi wymiar nie jest uwzględniony, ponieważ wektor jest jednowymiarowy."
   ]
  },
  {
   "cell_type": "markdown",
   "id": "e04853ce-9148-4346-844d-04f1c0ca0ffd",
   "metadata": {},
   "source": [
    "<div style=\"background-color: lightblue; padding:30px; text-align: center;font-weight: bold;\">\n",
    "    obliczenia na wektorach\n",
    "</div>"
   ]
  },
  {
   "cell_type": "markdown",
   "id": "84207c69-8856-4eec-8bd7-4aec57d5cc79",
   "metadata": {},
   "source": [
    "Tworząc sobie wektor, możesz wywołać metody obliczające statyczne wielkości, takie jak średnia (mean) czy odchylenie standardowe (std)"
   ]
  },
  {
   "cell_type": "code",
   "execution_count": 11,
   "id": "6bebfab9-8253-4294-a9cd-0cd87bdbe98e",
   "metadata": {},
   "outputs": [
    {
     "data": {
      "text/plain": [
       "3.0"
      ]
     },
     "execution_count": 11,
     "metadata": {},
     "output_type": "execute_result"
    }
   ],
   "source": [
    "np.array([2,4]).mean()\n"
   ]
  },
  {
   "cell_type": "code",
   "execution_count": 12,
   "id": "503c5069-cfba-4420-baf8-f24910667e07",
   "metadata": {},
   "outputs": [
    {
     "data": {
      "text/plain": [
       "28.809720581775867"
      ]
     },
     "execution_count": 12,
     "metadata": {},
     "output_type": "execute_result"
    }
   ],
   "source": [
    "np.array([1,2,4,5,6,18,1,91]).std()"
   ]
  },
  {
   "cell_type": "code",
   "execution_count": 13,
   "id": "f19afd74-c55c-48f6-a0d5-d812649bcdea",
   "metadata": {},
   "outputs": [
    {
     "data": {
      "text/plain": [
       "array([ 9, 11])"
      ]
     },
     "execution_count": 13,
     "metadata": {},
     "output_type": "execute_result"
    }
   ],
   "source": [
    "# dodawanie wektorów \n",
    "np.array([1,2]) + np.array([8,9])"
   ]
  },
  {
   "cell_type": "markdown",
   "id": "42dd3e5f-1029-4d75-94b4-6b057a9b4753",
   "metadata": {},
   "source": [
    "# Macierze"
   ]
  },
  {
   "cell_type": "markdown",
   "id": "70cfebb7-c863-4e44-93ee-df7801c25110",
   "metadata": {},
   "source": [
    "Zbiór jednakowo długich wektorów to macierz."
   ]
  },
  {
   "cell_type": "markdown",
   "id": "2eec0069-39c7-4b82-a00b-7955075e04ef",
   "metadata": {},
   "source": [
    "<div style=\"background-color: lightblue; padding:30px; text-align: center;font-weight: bold;\">\n",
    "    rozmiar macierzy\n",
    "</div>"
   ]
  },
  {
   "cell_type": "code",
   "execution_count": 17,
   "id": "ff6b9b02-7895-4d5d-b1ac-6fcfa5e96e0a",
   "metadata": {},
   "outputs": [
    {
     "data": {
      "text/plain": [
       "(2, 3)"
      ]
     },
     "execution_count": 17,
     "metadata": {},
     "output_type": "execute_result"
    }
   ],
   "source": [
    "numpy_matrix = np.array([[1,2,3], [5,7,11]])\n",
    "numpy_matrix.shape\n"
   ]
  },
  {
   "cell_type": "markdown",
   "id": "4dc11c74-2ca4-497a-904a-dbfb9207a20d",
   "metadata": {},
   "source": [
    "<div style=\"background-color: lightblue; padding:30px; text-align: center;font-weight: bold;\">\n",
    "    indeksacja macierzy i POBIERANIE  wiersza , kolumny, elementu z macierzy \n",
    "</div>"
   ]
  },
  {
   "cell_type": "code",
   "execution_count": 19,
   "id": "f74fbf57-a769-40cc-a4ef-873fda291c57",
   "metadata": {},
   "outputs": [
    {
     "data": {
      "text/plain": [
       "array([1, 2, 3])"
      ]
     },
     "execution_count": 19,
     "metadata": {},
     "output_type": "execute_result"
    }
   ],
   "source": [
    "matrix1 = np.array([\n",
    "\t[1,2,3],\n",
    "\t[4,5,6],\n",
    "\t[7,8,9]\n",
    "])\n",
    "# komenda pobrania wektora pierwszego \n",
    "matrix1[0, :]\n"
   ]
  },
  {
   "cell_type": "code",
   "execution_count": 20,
   "id": "5dfd8766-1e1f-49e5-a043-d724bf319796",
   "metadata": {},
   "outputs": [
    {
     "data": {
      "text/plain": [
       "array([3, 6, 9])"
      ]
     },
     "execution_count": 20,
     "metadata": {},
     "output_type": "execute_result"
    }
   ],
   "source": [
    "matrix1 = np.array([\n",
    "\t[1,2,3],\n",
    "\t[4,5,6],\n",
    "\t[7,8,9]\n",
    "])\n",
    "# pobieranie kolumny ostatniej\n",
    "matrix1[:, -1]"
   ]
  },
  {
   "cell_type": "code",
   "execution_count": 21,
   "id": "39c7d812-9d3c-4c85-9044-f240680c85f7",
   "metadata": {},
   "outputs": [
    {
     "data": {
      "text/plain": [
       "3"
      ]
     },
     "execution_count": 21,
     "metadata": {},
     "output_type": "execute_result"
    }
   ],
   "source": [
    "matrix1 = np.array([\n",
    "\t[1,2,3],\n",
    "\t[4,5,6],\n",
    "\t[7,8,9]\n",
    "])\n",
    "# pobieranie elementu na przecięciu wiersza 1 i kolumny ostatniej\n",
    "matrix1[0, -1]"
   ]
  },
  {
   "cell_type": "markdown",
   "id": "b6424a91-2ee1-48ca-9d92-c4a34d17198e",
   "metadata": {},
   "source": [
    "<div style=\"background-color: lightblue; padding:30px; text-align: center;font-weight: bold;\">\n",
    "    operacje na macierzach \n",
    "</div>"
   ]
  },
  {
   "cell_type": "markdown",
   "id": "aef0c8ba-0184-4084-961d-ff403a0cf8e6",
   "metadata": {},
   "source": [
    "W NumPy możesz szybko i bezpiecznie wykonywać dodawanie wektorów i macierzy. Takie operacje, jako \n",
    "<div style=\"background-color: white; padding:10px; text-align: center;font-weight: bold;\">\n",
    "podwaliny uczenia maszynowego, \n",
    "</div>\n",
    "muszą być wykonywane szybko. "
   ]
  },
  {
   "cell_type": "code",
   "execution_count": 24,
   "id": "5abebd1d-8e60-42cf-b23f-a4f5bef166d4",
   "metadata": {},
   "outputs": [
    {
     "data": {
      "text/plain": [
       "47"
      ]
     },
     "execution_count": 24,
     "metadata": {},
     "output_type": "execute_result"
    }
   ],
   "source": [
    "matrix2 = np.array([\n",
    "\t[1,2,3],\n",
    "\t[0,8,10],\n",
    "\t[1,10,12]\n",
    "])\n",
    "#suma wszystkich elementów \n",
    "matrix2.sum()"
   ]
  },
  {
   "cell_type": "markdown",
   "id": "b39f3214-fd00-4511-b076-db9d362a92ba",
   "metadata": {},
   "source": [
    "Chcielibyśmy jednak wejść nieco głębiej i zadać pytanie – jakie sumy mają całe wiersze i kolumny? Wtedy należy dodać parametr axis do danej metody statystycznej, np. sum. "
   ]
  },
  {
   "cell_type": "code",
   "execution_count": 26,
   "id": "7c93f568-14c6-4e49-a4c6-1e26f83affc1",
   "metadata": {},
   "outputs": [
    {
     "data": {
      "text/plain": [
       "array([ 2, 20, 25])"
      ]
     },
     "execution_count": 26,
     "metadata": {},
     "output_type": "execute_result"
    }
   ],
   "source": [
    "matrix2 = np.array([\n",
    "\t[1,2,3],\n",
    "\t[0,8,10],\n",
    "\t[1,10,12]\n",
    "])\n",
    "#suma w kolumnach \n",
    "matrix2.sum(axis=0)"
   ]
  },
  {
   "cell_type": "code",
   "execution_count": 27,
   "id": "fa6be1a2-57a4-4d2e-9b6f-c6db59bae5f9",
   "metadata": {},
   "outputs": [
    {
     "data": {
      "text/plain": [
       "array([ 6, 18, 23])"
      ]
     },
     "execution_count": 27,
     "metadata": {},
     "output_type": "execute_result"
    }
   ],
   "source": [
    "matrix2 = np.array([\n",
    "\t[1,2,3],\n",
    "\t[0,8,10],\n",
    "\t[1,10,12]\n",
    "])\n",
    "#suma w wierszach \n",
    "matrix2.sum(axis=1)"
   ]
  },
  {
   "cell_type": "code",
   "execution_count": 28,
   "id": "ac85f402-eb25-4de6-b496-9f5f98e23192",
   "metadata": {},
   "outputs": [
    {
     "data": {
      "text/plain": [
       "array([ 9, 11])"
      ]
     },
     "execution_count": 28,
     "metadata": {},
     "output_type": "execute_result"
    }
   ],
   "source": [
    "# dodawanie wektorów \n",
    "np.array([1,2]) + np.array([8,9])"
   ]
  },
  {
   "cell_type": "code",
   "execution_count": 29,
   "id": "d80e97f5-2c87-40b1-a403-1ce7a384f33d",
   "metadata": {},
   "outputs": [
    {
     "data": {
      "text/plain": [
       "array([[ 9, 11],\n",
       "       [13, 15]])"
      ]
     },
     "execution_count": 29,
     "metadata": {},
     "output_type": "execute_result"
    }
   ],
   "source": [
    "# dodawanie macierzy \n",
    "np.array([\n",
    "\t[1,2],\n",
    "\t[3,4]\n",
    "]) + \\\n",
    "np.array([\n",
    "\t[8,9],\n",
    "\t[10,11]\n",
    "])\n"
   ]
  },
  {
   "cell_type": "code",
   "execution_count": 30,
   "id": "8416618b-75ee-4419-80ec-d2b503bb6321",
   "metadata": {},
   "outputs": [
    {
     "data": {
      "text/plain": [
       "array([3, 7])"
      ]
     },
     "execution_count": 30,
     "metadata": {},
     "output_type": "execute_result"
    }
   ],
   "source": [
    "#mnożenie macierzy \n",
    "\n",
    "np.array([\n",
    "\t[1,2],\n",
    "\t[3,4]\n",
    "]).dot([1,1])\n"
   ]
  },
  {
   "cell_type": "markdown",
   "id": "bbb9e069-c4d1-4442-b9b8-5b44a704c2a2",
   "metadata": {},
   "source": [
    "#interpretacje powyższego: \n",
    "\n",
    "np.array([...]): Ten fragment kodu tworzy dwuwymiarową tablicę (macierz) za pomocą funkcji np.array z biblioteki NumPy. Wewnętrzne listy reprezentują wiersze macierzy.\n",
    "\n",
    "#1 Macierz wejściowa:\n",
    "\n",
    "[\n",
    " [1, 2],\n",
    " [3, 4]\n",
    "]\n",
    "\n",
    "\n",
    "#2 .dot([1, 1]): Następnie wywoływana jest metoda dot, która służy do mnożenia macierzy. Jednak w tym przypadku, drugi argument to jednowymiarowa tablica [1, 1], a nie druga macierz.\n",
    "\n",
    "Teraz, dokonuje się mnożenia macierzy przez jednowymiarową tablicę. Mnożenie macierzy przez wektor to operacja, w której każdy wiersz macierzy jest mnożony przez kolejny element wektora, a wyniki są sumowane.\n",
    "\n",
    "#3 Wynik mnożenia będzie wyglądać następująco:\n",
    "\n",
    "\n",
    "[(1 * 1 + 2 * 1), (3 * 1 + 4 * 1)]\n",
    "Po obliczeniach wynik będzie wyglądał tak:\n",
    "[3, 7]\n",
    "Ostateczny wynik to jednowymiarowa tablica [3, 7], która jest efektem mnożenia macierzy [1, 2], [3, 4] przez wektor [1, 1]."
   ]
  },
  {
   "cell_type": "code",
   "execution_count": 32,
   "id": "1135c466-a769-412b-b1bc-0f7fcae7aaaa",
   "metadata": {},
   "outputs": [
    {
     "data": {
      "text/plain": [
       "array([ 4, 10])"
      ]
     },
     "execution_count": 32,
     "metadata": {},
     "output_type": "execute_result"
    }
   ],
   "source": [
    "# inny przykład mnożenia \n",
    "np.array([\n",
    "\t[1,2],\n",
    "\t[3,4]\n",
    "]).dot([2,1])"
   ]
  },
  {
   "cell_type": "markdown",
   "id": "8b1e3e46-06c6-4987-bcdd-510a180db91f",
   "metadata": {},
   "source": [
    "Wynik mnożenia będzie wyglądać następująco:\n",
    "\n",
    "\n",
    "[(1 * 2 + 2 * 1), (3 * 2 + 4 * 1)]"
   ]
  },
  {
   "cell_type": "markdown",
   "id": "b65da46d-bc92-4fe7-8659-03632a3269d5",
   "metadata": {},
   "source": [
    "# test "
   ]
  },
  {
   "cell_type": "markdown",
   "id": "a2f240ec-a3aa-4a86-96f8-0f1ee398d38f",
   "metadata": {},
   "source": [
    "dodawanie wektorów: Jeden z nich niech ma długość 10 i zawiera liczby od 1 do 10. Drugi będzie wektorem, który zawiera 10 jedynek. Jeśli chodzi o drugiego, nie jest twórzony ręcznie."
   ]
  },
  {
   "cell_type": "code",
   "execution_count": 36,
   "id": "d1f3516d-5f87-4659-b37c-923a6682a60e",
   "metadata": {},
   "outputs": [
    {
     "name": "stdout",
     "output_type": "stream",
     "text": [
      "[1 1 1 1 1 1 1 1 1 1 1]\n"
     ]
    }
   ],
   "source": [
    "x = np.array([1,2,3,4,5,6,8,7,8,9,10]) \n",
    "y = np.ones(11).astype(int)\n",
    "print(y)"
   ]
  },
  {
   "cell_type": "code",
   "execution_count": 37,
   "id": "7111886e-7bb2-44f2-b088-d1bd712b973c",
   "metadata": {},
   "outputs": [
    {
     "name": "stdout",
     "output_type": "stream",
     "text": [
      "[ 1  2  3  4  5  6  8  7  8  9 10]\n"
     ]
    }
   ],
   "source": [
    "x = np.array([1,2,3,4,5,6,8,7,8,9,10]) \n",
    "print(x)"
   ]
  },
  {
   "cell_type": "code",
   "execution_count": 38,
   "id": "810f3bad-2e11-423c-b50c-0788bc14bb48",
   "metadata": {},
   "outputs": [
    {
     "name": "stdout",
     "output_type": "stream",
     "text": [
      "[ 2  3  4  5  6  7  9  8  9 10 11]\n"
     ]
    }
   ],
   "source": [
    "import numpy as np\n",
    "\n",
    "x = np.array([1, 2, 3, 4, 5, 6, 8, 7, 8, 9, 10])\n",
    "y = np.ones(11).astype(int)\n",
    "\n",
    "res = x + y\n",
    "\n",
    "print(res)"
   ]
  },
  {
   "cell_type": "markdown",
   "id": "4978a352-459e-4fea-882a-e087d74a6529",
   "metadata": {},
   "source": [
    "średnie wartości dla każdego wiersza i każdej kolumny.\n",
    "\n",
    "macierz, która składa się z 5 wierszy i 5 kolumn. Wypełniona liczbami od 1 do 25 (czyli pierwszy wiersz będzie zawierał liczby od 1 do 5, następny od 6...)."
   ]
  },
  {
   "cell_type": "code",
   "execution_count": 40,
   "id": "405b3aaf-1d4c-4389-a2e5-a7a520217771",
   "metadata": {},
   "outputs": [
    {
     "name": "stdout",
     "output_type": "stream",
     "text": [
      "Średnie dla każdego wiersza:\n",
      "[ 3.  8. 13. 18. 23.]\n",
      "Średnie dla każdej kolumny:\n",
      "[11. 12. 13. 14. 15.]\n"
     ]
    }
   ],
   "source": [
    "import numpy as np\n",
    "\n",
    "# Tworzenie macierzy\n",
    "matrix = np.array([\n",
    "    [1,2,3,4,5],\n",
    "    [6,7,8,9,10],\n",
    "    [11,12,13,14,15],\n",
    "    [16,17,18,19,20],\n",
    "    [21,22,23,24,25]\n",
    "])\n",
    "\n",
    "# Obliczanie średnich dla każdego wiersza\n",
    "average_row = np.mean(matrix, axis=1)\n",
    "\n",
    "# Obliczanie średnich dla każdej kolumny\n",
    "average_column = np.mean(matrix, axis=0)\n",
    "\n",
    "print(\"Średnie dla każdego wiersza:\")\n",
    "print(average_row)\n",
    "\n",
    "print(\"Średnie dla każdej kolumny:\")\n",
    "print(average_column)"
   ]
  },
  {
   "cell_type": "code",
   "execution_count": null,
   "id": "608226ad-f241-448e-a495-1b4894a54763",
   "metadata": {},
   "outputs": [],
   "source": []
  }
 ],
 "metadata": {
  "kernelspec": {
   "display_name": "anaconda-panel-2023.05-py310",
   "language": "python",
   "name": "conda-env-anaconda-panel-2023.05-py310-py"
  },
  "language_info": {
   "codemirror_mode": {
    "name": "ipython",
    "version": 3
   },
   "file_extension": ".py",
   "mimetype": "text/x-python",
   "name": "python",
   "nbconvert_exporter": "python",
   "pygments_lexer": "ipython3",
   "version": "3.11.5"
  }
 },
 "nbformat": 4,
 "nbformat_minor": 5
}
