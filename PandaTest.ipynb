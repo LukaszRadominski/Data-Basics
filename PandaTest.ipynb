{
 "cells": [
  {
   "cell_type": "markdown",
   "id": "23b1beb4-211a-4721-950a-1bfca09b356f",
   "metadata": {},
   "source": [
    "# Pandas test\n",
    "This is a sample of pandas library functions - Serie  + DataFrame "
   ]
  },
  {
   "cell_type": "markdown",
   "id": "bad8c828-427d-4088-a3bb-d5d842e6f002",
   "metadata": {},
   "source": [
    "#1 Podobnie jak szeregi NumPy, serie pandas także muszą być jednego typu.\n",
    "\n",
    "#2 Serie zachowują się podobnie do szeregów z NumPy, ale zawierają dodatkowe funkcjonalności, które zapewnią Ci szybszą pracę z danymi"
   ]
  },
  {
   "cell_type": "markdown",
   "id": "79d39d87-9859-4891-8633-a9632811446c",
   "metadata": {},
   "source": [
    "<div style=\"background-color: blue; padding:30px; text-align: center;font-weight: bold; color: white;\">\n",
    "    Serie\n",
    "</div>"
   ]
  },
  {
   "cell_type": "code",
   "execution_count": 4,
   "id": "b1cf0247-fe2c-420d-98a1-dbc7cf47880b",
   "metadata": {},
   "outputs": [
    {
     "data": {
      "text/plain": [
       "0      Mark\n",
       "1      John\n",
       "2    Daniel\n",
       "3      Greg\n",
       "dtype: object"
      ]
     },
     "execution_count": 4,
     "metadata": {},
     "output_type": "execute_result"
    }
   ],
   "source": [
    "import pandas as pd\n",
    "\n",
    "names_series = pd.Series([\"Mark\", \"John\", \"Daniel\", \"Greg\"])\n",
    "names_series\n"
   ]
  },
  {
   "cell_type": "code",
   "execution_count": 5,
   "id": "610a998b-c482-420f-8683-38d17b4195b2",
   "metadata": {},
   "outputs": [
    {
     "data": {
      "text/plain": [
       "0    1000\n",
       "1    1500\n",
       "2    2300\n",
       "3    5000\n",
       "dtype: int64"
      ]
     },
     "execution_count": 5,
     "metadata": {},
     "output_type": "execute_result"
    }
   ],
   "source": [
    "salary_series = pd.Series([1000, 1500, 2300, 5000])\n",
    "salary_series\n"
   ]
  },
  {
   "cell_type": "markdown",
   "id": "a819f680-002a-4baa-8f84-513015a5a038",
   "metadata": {},
   "source": [
    "#3 Serie maja dodatkowe, w porównaniu do szeregów funkcje np: describe"
   ]
  },
  {
   "cell_type": "code",
   "execution_count": 7,
   "id": "4ac79ee4-e55b-4943-aec1-3dede2908e8e",
   "metadata": {},
   "outputs": [
    {
     "data": {
      "text/plain": [
       "count        4\n",
       "unique       4\n",
       "top       Mark\n",
       "freq         1\n",
       "dtype: object"
      ]
     },
     "execution_count": 7,
     "metadata": {},
     "output_type": "execute_result"
    }
   ],
   "source": [
    "names_series.describe()"
   ]
  },
  {
   "cell_type": "code",
   "execution_count": 8,
   "id": "9fa4fa0c-26bd-4059-9d3e-e132e5e9136d",
   "metadata": {},
   "outputs": [
    {
     "data": {
      "text/plain": [
       "count       4.000000\n",
       "mean     2450.000000\n",
       "std      1782.320585\n",
       "min      1000.000000\n",
       "25%      1375.000000\n",
       "50%      1900.000000\n",
       "75%      2975.000000\n",
       "max      5000.000000\n",
       "dtype: float64"
      ]
     },
     "execution_count": 8,
     "metadata": {},
     "output_type": "execute_result"
    }
   ],
   "source": [
    "salary_series.describe()"
   ]
  },
  {
   "cell_type": "code",
   "execution_count": 9,
   "id": "0d2758f6-86e4-4a7d-b577-9b4db812f411",
   "metadata": {},
   "outputs": [
    {
     "data": {
      "text/plain": [
       "RangeIndex(start=0, stop=4, step=1)"
      ]
     },
     "execution_count": 9,
     "metadata": {},
     "output_type": "execute_result"
    }
   ],
   "source": [
    "#Jest pewna istotna cecha serii w pandas, która odróżnia ją od szeregów NumPy – indeksy. \n",
    "#Pozwalają one na szybszy i dopasowany do potrzeb dostęp do elementów. W naszym wypadku, gdy stworzyliśmy obie serie, pandas automatycznie nadał indeks, licząc od zera. \n",
    "\n",
    "salary_series.index"
   ]
  },
  {
   "cell_type": "markdown",
   "id": "f8c05ee4-401d-47d2-a4d8-1c91d27ab5b5",
   "metadata": {
    "tags": []
   },
   "source": [
    "<div style=\"background-color: lightblue; padding:30px; text-align: center;font-weight: bold;\">\n",
    "    Łączenie serii \n",
    "</div>"
   ]
  },
  {
   "cell_type": "code",
   "execution_count": 11,
   "id": "071af098-22a2-4b06-b21a-e8f12f4422ba",
   "metadata": {},
   "outputs": [
    {
     "data": {
      "text/plain": [
       "Mark      1000\n",
       "John      1500\n",
       "Daniel    2300\n",
       "Greg      5000\n",
       "dtype: int64"
      ]
     },
     "execution_count": 11,
     "metadata": {},
     "output_type": "execute_result"
    }
   ],
   "source": [
    "# łĄCZENIE salary_series.index można nadpisać poprzez names_series\n",
    "salary_series.index = names_series\n",
    "salary_series\n"
   ]
  },
  {
   "cell_type": "markdown",
   "id": "e6c1bed1-46e7-4c9d-a421-510c0920e7b1",
   "metadata": {},
   "source": [
    "możemy teraz odwołać się do serii po imionach pracowników. Żeby dowiedzieć się, ile zarabia Mark, wystarczy wywołać:"
   ]
  },
  {
   "cell_type": "code",
   "execution_count": 13,
   "id": "781cd9c3-7058-4475-a605-19152b0c10db",
   "metadata": {},
   "outputs": [
    {
     "data": {
      "text/plain": [
       "1000"
      ]
     },
     "execution_count": 13,
     "metadata": {},
     "output_type": "execute_result"
    }
   ],
   "source": [
    "salary_series['Mark'] "
   ]
  },
  {
   "cell_type": "code",
   "execution_count": 14,
   "id": "a605ff19-0646-4271-bd3e-d89043f91b82",
   "metadata": {},
   "outputs": [
    {
     "data": {
      "text/plain": [
       "Mark      1000\n",
       "John      1500\n",
       "Daniel    2300\n",
       "Greg      5000\n",
       "dtype: int64"
      ]
     },
     "execution_count": 14,
     "metadata": {},
     "output_type": "execute_result"
    }
   ],
   "source": [
    "# inny sposób na łaczenie serii \n",
    "names = [\"Mark\", \"John\", \"Daniel\", \"Greg\"]\n",
    "salaries = [1000, 1500, 2300, 5000]\n",
    "salary_series_improved = pd.Series(salaries, index=names)\n",
    "#wywołanie \n",
    "salary_series_improved"
   ]
  },
  {
   "cell_type": "markdown",
   "id": "70275619-be0d-4ee4-b6e9-734921287bd8",
   "metadata": {},
   "source": [
    "<div style=\"background-color: blue; padding:30px; text-align: center;font-weight: bold; color: white;\">\n",
    "    DataFrame\n",
    "</div>"
   ]
  },
  {
   "cell_type": "markdown",
   "id": "ca00ecff-0c18-4b79-aca8-7590d394b1a1",
   "metadata": {},
   "source": [
    "#1 Zbiór serii to Dataframe\n",
    "\n",
    "#2 Doskoname nadane się do przetwarzania CSV\n",
    "\n",
    "pd.read_csv(<sciezka_do_CSV>)"
   ]
  },
  {
   "cell_type": "markdown",
   "id": "b186e114-7ba5-4c78-9388-9016f48cd87f",
   "metadata": {},
   "source": [
    "Przykład przetwarzania CSV:\n",
    "pd.read_csv(<sciezka_do_CSV>)"
   ]
  },
  {
   "cell_type": "markdown",
   "id": "92ba6aa5-2e10-4426-ac91-9c751324ea52",
   "metadata": {},
   "source": [
    "<div style=\"background-color: lightblue; padding:30px; text-align: center;font-weight: bold;\">\n",
    "    Tworzenie obiektu DataFrame\n",
    "</div>"
   ]
  },
  {
   "cell_type": "code",
   "execution_count": 19,
   "id": "e011a7c3-6541-4355-a08e-7cb1b5f1c6b0",
   "metadata": {},
   "outputs": [
    {
     "data": {
      "text/html": [
       "<div>\n",
       "<style scoped>\n",
       "    .dataframe tbody tr th:only-of-type {\n",
       "        vertical-align: middle;\n",
       "    }\n",
       "\n",
       "    .dataframe tbody tr th {\n",
       "        vertical-align: top;\n",
       "    }\n",
       "\n",
       "    .dataframe thead th {\n",
       "        text-align: right;\n",
       "    }\n",
       "</style>\n",
       "<table border=\"1\" class=\"dataframe\">\n",
       "  <thead>\n",
       "    <tr style=\"text-align: right;\">\n",
       "      <th></th>\n",
       "      <th>0</th>\n",
       "      <th>1</th>\n",
       "      <th>2</th>\n",
       "    </tr>\n",
       "  </thead>\n",
       "  <tbody>\n",
       "    <tr>\n",
       "      <th>0</th>\n",
       "      <td>Mark</td>\n",
       "      <td>1000</td>\n",
       "      <td>23</td>\n",
       "    </tr>\n",
       "    <tr>\n",
       "      <th>1</th>\n",
       "      <td>John</td>\n",
       "      <td>1500</td>\n",
       "      <td>25</td>\n",
       "    </tr>\n",
       "    <tr>\n",
       "      <th>2</th>\n",
       "      <td>Daniel</td>\n",
       "      <td>2300</td>\n",
       "      <td>38</td>\n",
       "    </tr>\n",
       "    <tr>\n",
       "      <th>3</th>\n",
       "      <td>Greg</td>\n",
       "      <td>5000</td>\n",
       "      <td>42</td>\n",
       "    </tr>\n",
       "  </tbody>\n",
       "</table>\n",
       "</div>"
      ],
      "text/plain": [
       "        0     1   2\n",
       "0    Mark  1000  23\n",
       "1    John  1500  25\n",
       "2  Daniel  2300  38\n",
       "3    Greg  5000  42"
      ]
     },
     "execution_count": 19,
     "metadata": {},
     "output_type": "execute_result"
    }
   ],
   "source": [
    "import pandas as pd\n",
    "\n",
    "# mamy daną serię w postaci krotki\n",
    "\n",
    "salaries = [\n",
    "    (\"Mark\", 1000, 23),\n",
    "    (\"John\", 1500, 25),\n",
    "    (\"Daniel\", 2300, 38),\n",
    "    (\"Greg\", 5000, 42)\n",
    "]\n",
    "\n",
    "#tworzenie obiektu\n",
    "df = pd.DataFrame(salaries)\n",
    "\n",
    "# wywołujemy df\n",
    "df"
   ]
  },
  {
   "cell_type": "code",
   "execution_count": 20,
   "id": "bd70eb4f-5d1a-46fa-9375-c6dc973d09ca",
   "metadata": {},
   "outputs": [
    {
     "data": {
      "text/html": [
       "<div>\n",
       "<style scoped>\n",
       "    .dataframe tbody tr th:only-of-type {\n",
       "        vertical-align: middle;\n",
       "    }\n",
       "\n",
       "    .dataframe tbody tr th {\n",
       "        vertical-align: top;\n",
       "    }\n",
       "\n",
       "    .dataframe thead th {\n",
       "        text-align: right;\n",
       "    }\n",
       "</style>\n",
       "<table border=\"1\" class=\"dataframe\">\n",
       "  <thead>\n",
       "    <tr style=\"text-align: right;\">\n",
       "      <th></th>\n",
       "      <th>salary</th>\n",
       "      <th>age</th>\n",
       "    </tr>\n",
       "    <tr>\n",
       "      <th>name</th>\n",
       "      <th></th>\n",
       "      <th></th>\n",
       "    </tr>\n",
       "  </thead>\n",
       "  <tbody>\n",
       "    <tr>\n",
       "      <th>Mark</th>\n",
       "      <td>1000</td>\n",
       "      <td>23</td>\n",
       "    </tr>\n",
       "    <tr>\n",
       "      <th>John</th>\n",
       "      <td>1500</td>\n",
       "      <td>25</td>\n",
       "    </tr>\n",
       "    <tr>\n",
       "      <th>Daniel</th>\n",
       "      <td>2300</td>\n",
       "      <td>38</td>\n",
       "    </tr>\n",
       "    <tr>\n",
       "      <th>Greg</th>\n",
       "      <td>5000</td>\n",
       "      <td>42</td>\n",
       "    </tr>\n",
       "  </tbody>\n",
       "</table>\n",
       "</div>"
      ],
      "text/plain": [
       "        salary  age\n",
       "name               \n",
       "Mark      1000   23\n",
       "John      1500   25\n",
       "Daniel    2300   38\n",
       "Greg      5000   42"
      ]
     },
     "execution_count": 20,
     "metadata": {},
     "output_type": "execute_result"
    }
   ],
   "source": [
    "import pandas as pd\n",
    "\n",
    "# mamy daną serię w postaci krotki\n",
    "\n",
    "salaries = [\n",
    "    (\"Mark\", 1000, 23),\n",
    "    (\"John\", 1500, 25),\n",
    "    (\"Daniel\", 2300, 38),\n",
    "    (\"Greg\", 5000, 42)\n",
    "]\n",
    "\n",
    "#tworzenie obiektu\n",
    "df = pd.DataFrame(salaries, columns=[\"name\", \"salary\", \"age\"])\n",
    "df = df.set_index(\"name\")\n",
    "\n",
    "\n",
    "# wywołujemy df\n",
    "df"
   ]
  },
  {
   "cell_type": "markdown",
   "id": "bd234705-b6ec-4d85-bb3e-1ff27a55e64e",
   "metadata": {},
   "source": [
    "<div style=\"background-color: lightblue; padding:30px; text-align: center;font-weight: bold;\">\n",
    "    podstawowe operacje na obiekcie DataFrame +  funkcja apply ( optymalizacje  - dodawanie do wartości) \n",
    "</div>"
   ]
  },
  {
   "cell_type": "code",
   "execution_count": 22,
   "id": "62e6db72-2f07-496f-990f-ea16a929c98d",
   "metadata": {},
   "outputs": [
    {
     "data": {
      "text/html": [
       "<div>\n",
       "<style scoped>\n",
       "    .dataframe tbody tr th:only-of-type {\n",
       "        vertical-align: middle;\n",
       "    }\n",
       "\n",
       "    .dataframe tbody tr th {\n",
       "        vertical-align: top;\n",
       "    }\n",
       "\n",
       "    .dataframe thead th {\n",
       "        text-align: right;\n",
       "    }\n",
       "</style>\n",
       "<table border=\"1\" class=\"dataframe\">\n",
       "  <thead>\n",
       "    <tr style=\"text-align: right;\">\n",
       "      <th></th>\n",
       "      <th>salary</th>\n",
       "      <th>age</th>\n",
       "    </tr>\n",
       "  </thead>\n",
       "  <tbody>\n",
       "    <tr>\n",
       "      <th>count</th>\n",
       "      <td>4.000000</td>\n",
       "      <td>4.000000</td>\n",
       "    </tr>\n",
       "    <tr>\n",
       "      <th>mean</th>\n",
       "      <td>2450.000000</td>\n",
       "      <td>32.000000</td>\n",
       "    </tr>\n",
       "    <tr>\n",
       "      <th>std</th>\n",
       "      <td>1782.320585</td>\n",
       "      <td>9.416298</td>\n",
       "    </tr>\n",
       "    <tr>\n",
       "      <th>min</th>\n",
       "      <td>1000.000000</td>\n",
       "      <td>23.000000</td>\n",
       "    </tr>\n",
       "    <tr>\n",
       "      <th>25%</th>\n",
       "      <td>1375.000000</td>\n",
       "      <td>24.500000</td>\n",
       "    </tr>\n",
       "    <tr>\n",
       "      <th>50%</th>\n",
       "      <td>1900.000000</td>\n",
       "      <td>31.500000</td>\n",
       "    </tr>\n",
       "    <tr>\n",
       "      <th>75%</th>\n",
       "      <td>2975.000000</td>\n",
       "      <td>39.000000</td>\n",
       "    </tr>\n",
       "    <tr>\n",
       "      <th>max</th>\n",
       "      <td>5000.000000</td>\n",
       "      <td>42.000000</td>\n",
       "    </tr>\n",
       "  </tbody>\n",
       "</table>\n",
       "</div>"
      ],
      "text/plain": [
       "            salary        age\n",
       "count     4.000000   4.000000\n",
       "mean   2450.000000  32.000000\n",
       "std    1782.320585   9.416298\n",
       "min    1000.000000  23.000000\n",
       "25%    1375.000000  24.500000\n",
       "50%    1900.000000  31.500000\n",
       "75%    2975.000000  39.000000\n",
       "max    5000.000000  42.000000"
      ]
     },
     "execution_count": 22,
     "metadata": {},
     "output_type": "execute_result"
    }
   ],
   "source": [
    "import pandas as pd\n",
    "\n",
    "# mamy daną serię w postaci krotki\n",
    "\n",
    "salaries = [\n",
    "    (\"Mark\", 1000, 23),\n",
    "    (\"John\", 1500, 25),\n",
    "    (\"Daniel\", 2300, 38),\n",
    "    (\"Greg\", 5000, 42)\n",
    "]\n",
    "\n",
    "#tworzenie obiektu\n",
    "df = pd.DataFrame(salaries, columns=[\"name\", \"salary\", \"age\"])\n",
    "df = df.set_index(\"name\")\n",
    "\n",
    "\n",
    "# wywołujemy df\n",
    "df.mean()\n",
    "df.max()\n",
    "df.describe()"
   ]
  },
  {
   "cell_type": "code",
   "execution_count": 23,
   "id": "ba870ea5-8f86-4b21-9918-128689d26275",
   "metadata": {},
   "outputs": [
    {
     "data": {
      "text/html": [
       "<div>\n",
       "<style scoped>\n",
       "    .dataframe tbody tr th:only-of-type {\n",
       "        vertical-align: middle;\n",
       "    }\n",
       "\n",
       "    .dataframe tbody tr th {\n",
       "        vertical-align: top;\n",
       "    }\n",
       "\n",
       "    .dataframe thead th {\n",
       "        text-align: right;\n",
       "    }\n",
       "</style>\n",
       "<table border=\"1\" class=\"dataframe\">\n",
       "  <thead>\n",
       "    <tr style=\"text-align: right;\">\n",
       "      <th></th>\n",
       "      <th>salary</th>\n",
       "      <th>age</th>\n",
       "    </tr>\n",
       "    <tr>\n",
       "      <th>name</th>\n",
       "      <th></th>\n",
       "      <th></th>\n",
       "    </tr>\n",
       "  </thead>\n",
       "  <tbody>\n",
       "    <tr>\n",
       "      <th>Mark</th>\n",
       "      <td>3000</td>\n",
       "      <td>23</td>\n",
       "    </tr>\n",
       "    <tr>\n",
       "      <th>John</th>\n",
       "      <td>3500</td>\n",
       "      <td>25</td>\n",
       "    </tr>\n",
       "    <tr>\n",
       "      <th>Daniel</th>\n",
       "      <td>4300</td>\n",
       "      <td>38</td>\n",
       "    </tr>\n",
       "    <tr>\n",
       "      <th>Greg</th>\n",
       "      <td>7000</td>\n",
       "      <td>42</td>\n",
       "    </tr>\n",
       "  </tbody>\n",
       "</table>\n",
       "</div>"
      ],
      "text/plain": [
       "        salary  age\n",
       "name               \n",
       "Mark      3000   23\n",
       "John      3500   25\n",
       "Daniel    4300   38\n",
       "Greg      7000   42"
      ]
     },
     "execution_count": 23,
     "metadata": {},
     "output_type": "execute_result"
    }
   ],
   "source": [
    "import pandas as pd\n",
    "\n",
    "# mamy daną serię w postaci krotki\n",
    "\n",
    "salaries = [\n",
    "    (\"Mark\", 1000, 23),\n",
    "    (\"John\", 1500, 25),\n",
    "    (\"Daniel\", 2300, 38),\n",
    "    (\"Greg\", 5000, 42)\n",
    "]\n",
    "\n",
    "#tworzenie obiektu\n",
    "df = pd.DataFrame(salaries, columns=[\"name\", \"salary\", \"age\"])\n",
    "df = df.set_index(\"name\")\n",
    "\n",
    "# powiększamy o 2 k dla każdego \n",
    "salary_increased_series = df['salary'].apply(lambda salary: salary + 2000)\n",
    "df['salary'] = salary_increased_series\n",
    "\n",
    "\n",
    "# wywołyjemy \n",
    "df\n"
   ]
  },
  {
   "cell_type": "raw",
   "id": "ca8eb256-8c27-46a2-818b-3728821f4127",
   "metadata": {},
   "source": [
    "LUB"
   ]
  },
  {
   "cell_type": "code",
   "execution_count": 24,
   "id": "1507ee2a-1690-402d-8850-b734ab9759ee",
   "metadata": {},
   "outputs": [
    {
     "data": {
      "text/plain": [
       "name\n",
       "Mark      3000\n",
       "John      3500\n",
       "Daniel    4300\n",
       "Greg      7000\n",
       "Name: salary, dtype: int64"
      ]
     },
     "execution_count": 24,
     "metadata": {},
     "output_type": "execute_result"
    }
   ],
   "source": [
    "import pandas as pd\n",
    "\n",
    "# mamy daną serię w postaci krotki\n",
    "\n",
    "salaries = [\n",
    "    (\"Mark\", 1000, 23),\n",
    "    (\"John\", 1500, 25),\n",
    "    (\"Daniel\", 2300, 38),\n",
    "    (\"Greg\", 5000, 42)\n",
    "]\n",
    "\n",
    "#tworzenie obiektu\n",
    "df = pd.DataFrame(salaries, columns=[\"name\", \"salary\", \"age\"])\n",
    "df = df.set_index(\"name\")\n",
    "\n",
    "\n",
    "# powiększamy o 2 k dla każdego \n",
    "salary_raise = [2000, 2000, 2000, 2000]\n",
    "\n",
    "# dodajemy zmienna do serii \n",
    "df['salary'] + salary_raise\n"
   ]
  },
  {
   "cell_type": "markdown",
   "id": "7b975c2f-2424-4139-85b2-d365f17090c5",
   "metadata": {},
   "source": [
    "<div style=\"background-color: lightblue; padding:30px; text-align: center;font-weight: bold;\">\n",
    "    rysowanie wykresów\n",
    "</div>"
   ]
  },
  {
   "cell_type": "code",
   "execution_count": 26,
   "id": "fd3844b5-f362-4a6b-a498-638bda566a58",
   "metadata": {},
   "outputs": [
    {
     "data": {
      "text/plain": [
       "<BarContainer object of 4 artists>"
      ]
     },
     "execution_count": 26,
     "metadata": {},
     "output_type": "execute_result"
    },
    {
     "data": {
      "image/png": "[encoded data removed]",
      "text/plain": [
       "<Figure size 640x480 with 1 Axes>"
      ]
     },
     "metadata": {},
     "output_type": "display_data"
    }
   ],
   "source": [
    "import pandas as pd\n",
    "import matplotlib.pyplot as plt\n",
    "\n",
    "# mamy daną serię w postaci krotki\n",
    "\n",
    "salaries = [\n",
    "    (\"Mark\", 1000, 23),\n",
    "    (\"John\", 1500, 25),\n",
    "    (\"Daniel\", 2300, 38),\n",
    "    (\"Greg\", 5000, 42)\n",
    "]\n",
    "\n",
    "#tworzenie obiektu\n",
    "df = pd.DataFrame(salaries, columns=[\"name\", \"salary\", \"age\"])\n",
    "df = df.set_index(\"name\")\n",
    "\n",
    "# rysujemy wykres\n",
    "plt.bar(df.index, df[\"salary\"])\n"
   ]
  },
  {
   "cell_type": "raw",
   "id": "d8ea1a55-b75d-48b8-aa3b-b0b725423305",
   "metadata": {},
   "source": [
    "LUB"
   ]
  },
  {
   "cell_type": "code",
   "execution_count": 27,
   "id": "90092c43-0cb0-48e5-bfee-2a0fa3349f16",
   "metadata": {},
   "outputs": [
    {
     "data": {
      "text/plain": [
       "<Axes: xlabel='name'>"
      ]
     },
     "execution_count": 27,
     "metadata": {},
     "output_type": "execute_result"
    },
    {
     "data": {
      "image/png": "[encoded data removed]",
      "text/plain": [
       "<Figure size 640x480 with 1 Axes>"
      ]
     },
     "metadata": {},
     "output_type": "display_data"
    }
   ],
   "source": [
    "df['salary'].plot(kind='bar')"
   ]
  },
  {
   "cell_type": "markdown",
   "id": "3e6f6845-5c25-48ae-bb12-7d6480729310",
   "metadata": {},
   "source": [
    "<div style=\"background-color: lightblue; padding:30px; text-align: center;font-weight: bold;\">\n",
    "    Duże zbiory danych  / wydajność  =  GENERATORY\n",
    "</div>"
   ]
  },
  {
   "cell_type": "raw",
   "id": "a924cba7-c2b2-4b5c-8b0b-d92e896d656f",
   "metadata": {},
   "source": [
    "Generator. Jest to taki obiekt w Pythonie, który choć jest funkcją, zachowuje się jak iterator. W przeciwieństwie do funkcji nie zwraca rezultatów poprzez słowo kluczowe return.\n",
    "\n",
    "Zdefiniowaliśmy generator, który iteruje sobie po jakiejś liście. Za każdą iteracją zwraca (słowo kluczowe yield) kolejny element do pętli, która go wywołuje. Ale… co ciekawe, to nie oznacza, że funkcja give_me_first_ten_numbers się kończy! Ona nadal jest przetwarzana, ale za każdym wywołaniem tej operacji kontekst programu na chwilę przenosi się do pętli, zwraca wynik, a potem działa dalej.\n",
    "\n",
    " Kiedy zaczniesz używać generatorów do swoich operacji na kolekcjach, lepiej to poczujesz, a wtedy, gdy wykorzystanie generatorów będzie motywowane ilością danych, które przetwarzasz, przekonasz się jakie to fajne narzędzie"
   ]
  },
  {
   "cell_type": "code",
   "execution_count": 29,
   "id": "f783a2fc-0067-4f3b-8c87-b731c8e8a422",
   "metadata": {},
   "outputs": [
    {
     "name": "stdout",
     "output_type": "stream",
     "text": [
      "1\n",
      "2\n",
      "3\n",
      "4\n",
      "5\n",
      "6\n",
      "7\n",
      "8\n",
      "9\n",
      "10\n"
     ]
    }
   ],
   "source": [
    "#generator 10 nastepujących po sobie liczb \n",
    "def give_me_first_ten_numbers():\n",
    "    for i in range(1,11):\n",
    "            yield i\n",
    "\n",
    "            \n",
    "# generowanie 10 liczb kolejno po sobie\n",
    "for number in give_me_first_ten_numbers():\n",
    "    print(number)\n"
   ]
  },
  {
   "cell_type": "raw",
   "id": "8ee9d203-4249-4f30-a857-e47f2a4557d2",
   "metadata": {},
   "source": [
    "Dawanie każdej liczby z wygenegowanego zbioru: \n",
    "\n",
    "Musisz stworzyć jedną funkcję z yield, a następnie wykorzystać ją w pętli.\n",
    "    \n",
    "Poniyższy kod definiuje funkcję give_me_first_ten_numbers(), która jest generatorem, a następnie tworzy generator i iteruje przez niego, \n",
    "obliczając sumę wszystkich wygenerowanych liczb. Wynik zostaje wydrukowany na ekranie."
   ]
  },
  {
   "cell_type": "code",
   "execution_count": 30,
   "id": "7f63b104-efc6-4760-9713-d4b60e6f7555",
   "metadata": {},
   "outputs": [
    {
     "name": "stdout",
     "output_type": "stream",
     "text": [
      "Suma wszystkich liczb:  55\n"
     ]
    }
   ],
   "source": [
    "def give_me_first_ten_numbers():\n",
    "    for i in range(1, 11):\n",
    "        yield i\n",
    "\n",
    "# Wywołaj funkcję i utwórz generator\n",
    "number_generator = give_me_first_ten_numbers()\n",
    "\n",
    "# Zainicjuj zmienną do przechowywania sumy\n",
    "total_sum = 0\n",
    "\n",
    "# Przeiteruj przez generator i oblicz sumę\n",
    "for number in number_generator:\n",
    "    total_sum += number\n",
    "\n",
    "# Wydrukuj wynik\n",
    "print(\"Suma wszystkich liczb: \", total_sum)\n"
   ]
  },
  {
   "cell_type": "markdown",
   "id": "5ed29f58-37d4-4265-a00f-3ca8435f295c",
   "metadata": {},
   "source": [
    "<div style=\"background-color: lightblue; padding:30px; text-align: center;font-weight: bold;\">\n",
    "    Wykres liniowy w DataFrame \n",
    "    \n",
    "    metoda DODAWANIA kolumny assign()\n",
    "    \n",
    "    formatowanie wykresu na liniowy \n",
    "    \n",
    "</div>"
   ]
  },
  {
   "cell_type": "code",
   "execution_count": 65,
   "id": "92698477-c759-4974-8710-a826f1dba1d0",
   "metadata": {},
   "outputs": [
    {
     "data": {
      "text/html": [
       "<div>\n",
       "<style scoped>\n",
       "    .dataframe tbody tr th:only-of-type {\n",
       "        vertical-align: middle;\n",
       "    }\n",
       "\n",
       "    .dataframe tbody tr th {\n",
       "        vertical-align: top;\n",
       "    }\n",
       "\n",
       "    .dataframe thead th {\n",
       "        text-align: right;\n",
       "    }\n",
       "</style>\n",
       "<table border=\"1\" class=\"dataframe\">\n",
       "  <thead>\n",
       "    <tr style=\"text-align: right;\">\n",
       "      <th></th>\n",
       "      <th>pricePLN</th>\n",
       "      <th>priceUSD</th>\n",
       "    </tr>\n",
       "    <tr>\n",
       "      <th>month</th>\n",
       "      <th></th>\n",
       "      <th></th>\n",
       "    </tr>\n",
       "  </thead>\n",
       "  <tbody>\n",
       "    <tr>\n",
       "      <th>1</th>\n",
       "      <td>2.12</td>\n",
       "      <td>0.5300</td>\n",
       "    </tr>\n",
       "    <tr>\n",
       "      <th>2</th>\n",
       "      <td>2.56</td>\n",
       "      <td>0.6400</td>\n",
       "    </tr>\n",
       "    <tr>\n",
       "      <th>3</th>\n",
       "      <td>3.10</td>\n",
       "      <td>0.7750</td>\n",
       "    </tr>\n",
       "    <tr>\n",
       "      <th>4</th>\n",
       "      <td>3.16</td>\n",
       "      <td>0.7900</td>\n",
       "    </tr>\n",
       "    <tr>\n",
       "      <th>5</th>\n",
       "      <td>3.58</td>\n",
       "      <td>0.8950</td>\n",
       "    </tr>\n",
       "    <tr>\n",
       "      <th>6</th>\n",
       "      <td>5.12</td>\n",
       "      <td>1.2800</td>\n",
       "    </tr>\n",
       "    <tr>\n",
       "      <th>7</th>\n",
       "      <td>5.16</td>\n",
       "      <td>1.2900</td>\n",
       "    </tr>\n",
       "    <tr>\n",
       "      <th>8</th>\n",
       "      <td>5.20</td>\n",
       "      <td>1.3000</td>\n",
       "    </tr>\n",
       "    <tr>\n",
       "      <th>9</th>\n",
       "      <td>4.12</td>\n",
       "      <td>1.0300</td>\n",
       "    </tr>\n",
       "    <tr>\n",
       "      <th>10</th>\n",
       "      <td>4.10</td>\n",
       "      <td>1.0250</td>\n",
       "    </tr>\n",
       "    <tr>\n",
       "      <th>11</th>\n",
       "      <td>3.65</td>\n",
       "      <td>0.9125</td>\n",
       "    </tr>\n",
       "    <tr>\n",
       "      <th>12</th>\n",
       "      <td>4.25</td>\n",
       "      <td>1.0625</td>\n",
       "    </tr>\n",
       "  </tbody>\n",
       "</table>\n",
       "</div>"
      ],
      "text/plain": [
       "       pricePLN  priceUSD\n",
       "month                    \n",
       "1          2.12    0.5300\n",
       "2          2.56    0.6400\n",
       "3          3.10    0.7750\n",
       "4          3.16    0.7900\n",
       "5          3.58    0.8950\n",
       "6          5.12    1.2800\n",
       "7          5.16    1.2900\n",
       "8          5.20    1.3000\n",
       "9          4.12    1.0300\n",
       "10         4.10    1.0250\n",
       "11         3.65    0.9125\n",
       "12         4.25    1.0625"
      ]
     },
     "execution_count": 65,
     "metadata": {},
     "output_type": "execute_result"
    }
   ],
   "source": [
    "import pandas as pd\n",
    "\n",
    "# mamy daną serię w postaci krotki\n",
    "\n",
    "prices = [\n",
    "    (1, 2.12),\n",
    "    (2, 2.56),\n",
    "    (3, 3.10),\n",
    "    (4, 3.16),\n",
    "    (5, 3.58),\n",
    "    (6, 5.12),\n",
    "    (7, 5.16),\n",
    "    (8, 5.20),\n",
    "    (9, 4.12),\n",
    "    (10, 4.10),\n",
    "    (11, 3.65),\n",
    "    (12, 4.25),\n",
    "]\n",
    "\n",
    "# KROK 1 tworzenie obiektu\n",
    "# df = pd.DataFrame(prices)\n",
    "\n",
    "# KROK 2 dodanie miesiąca jako indeks\n",
    "df = pd.DataFrame(prices, columns=[\"month\", \"pricePLN\"])\n",
    "df = df.set_index(\"month\")\n",
    "\n",
    "# KROK 3 dodanie kolumny \"price USD\" na podstawie \"pricePLN\"\n",
    "df = df.assign(priceUSD=df[\"pricePLN\"] / 4)\n",
    "\n",
    "# wywołujemy df\n",
    "df"
   ]
  },
  {
   "cell_type": "code",
   "execution_count": 67,
   "id": "98bb5357-2951-4a17-8af3-b23ec7fe2138",
   "metadata": {},
   "outputs": [
    {
     "data": {
      "image/png": "[encoded data removed]",
      "text/plain": [
       "<Figure size 640x480 with 1 Axes>"
      ]
     },
     "metadata": {},
     "output_type": "display_data"
    }
   ],
   "source": [
    "import pandas as pd\n",
    "\n",
    "# mamy daną serię w postaci krotki\n",
    "\n",
    "prices = [\n",
    "    (1, 2.12),\n",
    "    (2, 2.56),\n",
    "    (3, 3.10),\n",
    "    (4, 3.16),\n",
    "    (5, 3.58),\n",
    "    (6, 5.12),\n",
    "    (7, 5.16),\n",
    "    (8, 5.20),\n",
    "    (9, 4.12),\n",
    "    (10, 4.10),\n",
    "    (11, 3.65),\n",
    "    (12, 4.25),\n",
    "]\n",
    "\n",
    "# KROK 1 tworzenie obiektu\n",
    "# df = pd.DataFrame(prices)\n",
    "\n",
    "# KROK 2 dodanie miesiąca jako indeks\n",
    "df = pd.DataFrame(prices, columns=[\"month\", \"pricePLN\"])\n",
    "df = df.set_index(\"month\")\n",
    "\n",
    "# KROK 3 dodanie kolumny \"price USD\" na podstawie \"pricePLN\"\n",
    "df = df.assign(priceUSD=df[\"pricePLN\"] / 4)\n",
    "\n",
    "# Wykres liniowy\n",
    "plt.plot(df.index, df[\"priceUSD\"], 'r--', label=\"Price USD\")\n",
    "\n",
    "# Dodanie etykiet i tytułu\n",
    "plt.xlabel(\"Month\")\n",
    "plt.ylabel(\"Price USD\")\n",
    "plt.title(\"Price in USD\")\n",
    "\n",
    "# Dodanie legendy\n",
    "plt.legend()\n",
    "\n",
    "# Wyświetlenie wykresu\n",
    "plt.show()"
   ]
  },
  {
   "cell_type": "code",
   "execution_count": null,
   "id": "c7afb75e-3a6b-4a69-a07e-4cfc9bd868bd",
   "metadata": {},
   "outputs": [],
   "source": []
  }
 ],
 "metadata": {
  "kernelspec": {
   "display_name": "anaconda-panel-2023.05-py310",
   "language": "python",
   "name": "conda-env-anaconda-panel-2023.05-py310-py"
  },
  "language_info": {
   "codemirror_mode": {
    "name": "ipython",
    "version": 3
   },
   "file_extension": ".py",
   "mimetype": "text/x-python",
   "name": "python",
   "nbconvert_exporter": "python",
   "pygments_lexer": "ipython3",
   "version": "3.11.5"
  }
 },
 "nbformat": 4,
 "nbformat_minor": 5
}
